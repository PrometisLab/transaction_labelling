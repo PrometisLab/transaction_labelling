{
 "cells": [
  {
   "cell_type": "code",
   "execution_count": 1,
   "metadata": {},
   "outputs": [],
   "source": [
    "import sys\n",
    "import os\n",
    "sys.path.append(os.path.abspath(\"python-iso18245-master\"))\n",
    "import iso18245\n",
    "import pandas as pd\n",
    "from typing import List, Dict, Any"
   ]
  },
  {
   "cell_type": "code",
   "execution_count": null,
   "metadata": {},
   "outputs": [],
   "source": [
    "print(dir(iso18245))  # This will show us all available attributes/methods"
   ]
  },
  {
   "cell_type": "code",
   "execution_count": 5,
   "metadata": {},
   "outputs": [],
   "source": [
    "mccs = pd.DataFrame(iso18245.get_all_mccs_dict()).drop(columns=['visa_description'])\n",
    "mcc_visa = pd.read_csv(\"mcc_visa_pdf_data.csv\", dtype={\"MCC\":str})\n",
    "mcc_visa.columns = ['visa_' + str.lower(col) for col in mcc_visa.columns]"
   ]
  },
  {
   "cell_type": "code",
   "execution_count": 6,
   "metadata": {},
   "outputs": [],
   "source": [
    "mccs_merged =mccs.merge(mcc_visa[['visa_mcc','visa_mcc_title','visa_mcc_description','visa_included_in_mcc']], left_on=\"mcc\", right_on=\"visa_mcc\", how = 'outer')"
   ]
  },
  {
   "cell_type": "code",
   "execution_count": null,
   "metadata": {},
   "outputs": [],
   "source": [
    "dict(mccs_merged.iloc[700:710].iloc[0])"
   ]
  },
  {
   "cell_type": "code",
   "execution_count": null,
   "metadata": {},
   "outputs": [],
   "source": []
  }
 ],
 "metadata": {
  "kernelspec": {
   "display_name": "metatools",
   "language": "python",
   "name": "python3"
  },
  "language_info": {
   "codemirror_mode": {
    "name": "ipython",
    "version": 3
   },
   "file_extension": ".py",
   "mimetype": "text/x-python",
   "name": "python",
   "nbconvert_exporter": "python",
   "pygments_lexer": "ipython3",
   "version": "3.13.0"
  }
 },
 "nbformat": 4,
 "nbformat_minor": 2
}
